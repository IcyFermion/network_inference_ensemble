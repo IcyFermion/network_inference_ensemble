{
 "cells": [
  {
   "cell_type": "code",
   "execution_count": 1,
   "metadata": {},
   "outputs": [],
   "source": [
    "import numpy as np\n",
    "import pandas as pd\n",
    "import matplotlib\n",
    "from tqdm import tqdm \n",
    "from sklearn import metrics \n",
    "%matplotlib inline\n",
    "import matplotlib.pyplot as plt\n",
    "from sklearn.linear_model import LogisticRegression, LogisticRegressionCV\n"
   ]
  },
  {
   "cell_type": "code",
   "execution_count": 142,
   "metadata": {},
   "outputs": [],
   "source": [
    "set_dir = './dream4/5/'"
   ]
  },
  {
   "cell_type": "code",
   "execution_count": 143,
   "metadata": {},
   "outputs": [],
   "source": [
    "op_df = pd.read_csv(set_dir + 'Matrix_TF_gene_best_model.tsv', sep='\\t', index_col=0)\n",
    "inf_df = pd.read_csv(set_dir + 'inf_matrix.tsv', sep='\\t', index_col=0)\n",
    "boost_df = pd.read_csv(set_dir + 'GRNBOOST2/rankedEdges.csv', sep='\\t')\n",
    "genie3_df = pd.read_csv(set_dir + 'GENIE3/rankedEdges.csv', sep='\\t')\n",
    "grisli_df = pd.read_csv(set_dir + 'GRISLI/rankedEdges.csv', sep='\\t')\n",
    "grnvbem_df = pd.read_csv(set_dir + 'GRNVBEM/rankedEdges.csv', sep='\\t')\n",
    "leap_df = pd.read_csv(set_dir + 'LEAP/rankedEdges.csv', sep='\\t')\n",
    "pidc_df = pd.read_csv(set_dir + 'PIDC/rankedEdges.csv', sep='\\t')\n",
    "ppcor_df = pd.read_csv(set_dir + 'PPCOR/rankedEdges.csv', sep='\\t')\n",
    "scode_df = pd.read_csv(set_dir + 'SCODE/rankedEdges.csv', sep='\\t')\n",
    "scribe_df = pd.read_csv(set_dir + 'SCRIBE/rankedEdges.csv', sep='\\t')\n",
    "# sincerities_df = pd.read_csv(set_dir + 'SINCERITIES/rankedEdges.csv', sep='\\t')\n",
    "# singe_df = pd.read_csv(set_dir + 'SINGE/rankedEdges.csv', sep='\\t')"
   ]
  },
  {
   "cell_type": "code",
   "execution_count": 144,
   "metadata": {},
   "outputs": [],
   "source": [
    "target_df = pd.read_csv(set_dir + 'target_edges.csv')\n",
    "target_tf_set = set(target_df['regulator'])\n",
    "target_gene_set = set(target_df['target'])\n",
    "# common_tf = target_tf_set.intersection(set(op_df.columns))\n",
    "# common_gene = target_gene_set.intersection(set(op_df.index))\n",
    "common_tf = op_df.columns\n",
    "common_gene = op_df.index\n",
    "target_edge_set = set()\n",
    "for index, row in target_df.iterrows():\n",
    "    if row['regulator'] in common_tf and row['target'] in common_gene:\n",
    "        target_edge_set.add(row['regulator']+'_'+row['target'])"
   ]
  },
  {
   "cell_type": "code",
   "execution_count": 145,
   "metadata": {},
   "outputs": [],
   "source": [
    "if 'Time' in common_tf:\n",
    "    common_tf = common_tf.drop('Time')"
   ]
  },
  {
   "cell_type": "code",
   "execution_count": 146,
   "metadata": {},
   "outputs": [],
   "source": [
    "# ensemble_df = pd.DataFrame(columns=['edge_name', 'op', 'inf', 'grnboost', 'genie3', 'grisli', 'grnvbem', 'leap',  'pidc', 'ppcor', 'scode', 'scribe', 'sincerities', 'singe', 'ss_cor', 'ss_ranked', 'edge_exist'])\n",
    "# ensemble_df = pd.DataFrame(columns=['edge_name', 'op', 'inf', 'grnboost', 'genie3', 'grisli', 'grnvbem', 'leap',  'pidc', 'ppcor', 'scode', 'scribe', 'sincerities', 'ss_cor', 'ss_ranked', 'edge_exist'])\n",
    "ensemble_df = pd.DataFrame(columns=['edge_name', 'op', 'inf', 'grnboost', 'genie3', 'grisli', 'grnvbem', 'leap',  'pidc', 'ppcor', 'scode', 'scribe', 'ss_cor', 'ss_ranked', 'edge_exist'])"
   ]
  },
  {
   "cell_type": "code",
   "execution_count": 147,
   "metadata": {},
   "outputs": [],
   "source": [
    "boost_df = boost_df[boost_df['Gene1'].isin(common_tf)]\n",
    "boost_df = boost_df[boost_df['Gene2'].isin(common_gene)]\n",
    "genie3_df = genie3_df[genie3_df['Gene1'].isin(common_tf)]\n",
    "genie3_df = genie3_df[genie3_df['Gene2'].isin(common_gene)]\n",
    "grisli_df = grisli_df[grisli_df['Gene1'].isin(common_tf)]\n",
    "grisli_df = grisli_df[grisli_df['Gene2'].isin(common_gene)]\n",
    "grnvbem_df = grnvbem_df[grnvbem_df['Gene1'].isin(common_tf)]\n",
    "grnvbem_df = grnvbem_df[grnvbem_df['Gene2'].isin(common_gene)]\n",
    "leap_df = leap_df[leap_df['Gene1'].isin(common_tf)]\n",
    "leap_df = leap_df[leap_df['Gene2'].isin(common_gene)]\n",
    "pidc_df = pidc_df[pidc_df['Gene1'].isin(common_tf)]\n",
    "pidc_df = pidc_df[pidc_df['Gene2'].isin(common_gene)]\n",
    "ppcor_df = ppcor_df[ppcor_df['Gene1'].isin(common_tf)]\n",
    "ppcor_df = ppcor_df[ppcor_df['Gene2'].isin(common_gene)]\n",
    "scode_df = scode_df[scode_df['Gene1'].isin(common_tf)]\n",
    "scode_df = scode_df[scode_df['Gene2'].isin(common_gene)]\n",
    "scribe_df = scribe_df[scribe_df['Gene1'].isin(common_tf)]\n",
    "scribe_df = scribe_df[scribe_df['Gene2'].isin(common_gene)]\n",
    "# sincerities_df = sincerities_df[sincerities_df['Gene1'].isin(common_tf)]\n",
    "# sincerities_df = sincerities_df[sincerities_df['Gene2'].isin(common_gene)]\n",
    "# singe_df = singe_df[singe_df['Gene1'].isin(common_tf)]\n",
    "# singe_df = singe_df[singe_df['Gene2'].isin(common_gene)]"
   ]
  },
  {
   "cell_type": "code",
   "execution_count": 148,
   "metadata": {},
   "outputs": [],
   "source": [
    "boost_matrix = pd.DataFrame(0.0, index=common_gene, columns=common_tf)\n",
    "for index, row in boost_df.iterrows():\n",
    "    boost_matrix.at[row['Gene2'], row['Gene1']] = np.abs(row['EdgeWeight'])\n",
    "genie3_matrix = pd.DataFrame(0.0, index=common_gene, columns=common_tf)\n",
    "for index, row in genie3_df.iterrows():\n",
    "    genie3_matrix.at[row['Gene2'], row['Gene1']] = np.abs(row['EdgeWeight'])\n",
    "grisli_matrix = pd.DataFrame(0.0, index=common_gene, columns=common_tf)\n",
    "for index, row in grisli_df.iterrows():\n",
    "    grisli_matrix.at[row['Gene2'], row['Gene1']] = np.abs(row['EdgeWeight'])\n",
    "grnvbem_matrix = pd.DataFrame(0.0, index=common_gene, columns=common_tf)\n",
    "for index, row in grnvbem_df.iterrows():\n",
    "    grnvbem_matrix.at[row['Gene2'], row['Gene1']] = np.abs(row['EdgeWeight'])\n",
    "leap_matrix = pd.DataFrame(0.0, index=common_gene, columns=common_tf)\n",
    "for index, row in leap_df.iterrows():\n",
    "    leap_matrix.at[row['Gene2'], row['Gene1']] = np.abs(row['EdgeWeight'])\n",
    "pidc_matrix = pd.DataFrame(0.0, index=common_gene, columns=common_tf)\n",
    "for index, row in pidc_df.iterrows():\n",
    "    pidc_matrix.at[row['Gene2'], row['Gene1']] = np.abs(row['EdgeWeight'])\n",
    "ppcor_matrix = pd.DataFrame(0.0, index=common_gene, columns=common_tf)\n",
    "for index, row in ppcor_df.iterrows():\n",
    "    ppcor_matrix.at[row['Gene2'], row['Gene1']] = np.abs(row['EdgeWeight'])\n",
    "scode_matrix = pd.DataFrame(0.0, index=common_gene, columns=common_tf)\n",
    "for index, row in scode_df.iterrows():\n",
    "    scode_matrix.at[row['Gene2'], row['Gene1']] = np.abs(row['EdgeWeight'])\n",
    "scribe_matrix = pd.DataFrame(0.0, index=common_gene, columns=common_tf)\n",
    "for index, row in scribe_df.iterrows():\n",
    "    scribe_matrix.at[row['Gene2'], row['Gene1']] = np.abs(row['EdgeWeight'])\n",
    "# sincerities_matrix = pd.DataFrame(0.0, index=common_gene, columns=common_tf)\n",
    "# for index, row in sincerities_df.iterrows():\n",
    "#     sincerities_matrix.at[row['Gene2'], row['Gene1']] = np.abs(row['EdgeWeight'])\n",
    "# singe_matrix = pd.DataFrame(0.0, index=common_gene, columns=common_tf)\n",
    "# for index, row in singe_df.iterrows():\n",
    "#     singe_matrix.at[row['Gene2'], row['Gene1']] = np.abs(row['EdgeWeight'])\n",
    "op_matrix = op_df[common_tf]\n",
    "op_matrix = op_matrix.loc[common_gene]\n",
    "inf_matrix = inf_df[common_tf]\n",
    "inf_matrix = inf_matrix.loc[common_gene]"
   ]
  },
  {
   "cell_type": "code",
   "execution_count": 149,
   "metadata": {},
   "outputs": [],
   "source": [
    "from scipy import stats\n",
    "steady_state_df = pd.read_csv(set_dir + 'dualknockouts.tsv', sep='\\t')"
   ]
  },
  {
   "cell_type": "code",
   "execution_count": 150,
   "metadata": {},
   "outputs": [
    {
     "name": "stderr",
     "output_type": "stream",
     "text": [
      "100%|██████████| 100/100 [00:20<00:00,  4.78it/s]\n"
     ]
    }
   ],
   "source": [
    "for regulator_name in tqdm(common_tf):\n",
    "    for target_name in common_gene:\n",
    "        edge_name = regulator_name + '_' + target_name\n",
    "        ss_gene = steady_state_df[target_name]\n",
    "        ss_tf = steady_state_df[regulator_name]\n",
    "        corr, _ = stats.pearsonr(ss_tf, ss_gene)\n",
    "        ss_ranked, _ =  stats.spearmanr(ss_tf, ss_gene)\n",
    "        ss_cor = corr**2\n",
    "        op_score = op_matrix.loc[target_name][regulator_name]\n",
    "        inf_score = inf_matrix.loc[target_name][regulator_name]\n",
    "        leap_score = leap_matrix.loc[target_name][regulator_name]\n",
    "        pidc_score = pidc_matrix.loc[target_name][regulator_name]\n",
    "        boost_score = boost_matrix.loc[target_name][regulator_name]\n",
    "        genie3_score = genie3_matrix.loc[target_name][regulator_name]\n",
    "        # sincerities_score = sincerities_matrix.loc[target_name][regulator_name]\n",
    "        ppcor_score = ppcor_matrix.loc[target_name][regulator_name]\n",
    "        grisli_score = grisli_matrix.loc[target_name][regulator_name]\n",
    "        grnvbem_score = grnvbem_matrix.loc[target_name][regulator_name]\n",
    "        scode_score = scode_matrix.loc[target_name][regulator_name]\n",
    "        scribe_score = scribe_matrix.loc[target_name][regulator_name]\n",
    "        # singe_score = singe_matrix.loc[target_name][regulator_name]\n",
    "        target = 0\n",
    "        if edge_name in target_edge_set:\n",
    "            target = 1\n",
    "        # ensemble_df = ensemble_df.append(pd.DataFrame([[edge_name, op_score, inf_score, boost_score, genie3_score, grisli_score, grnvbem_score, leap_score, pidc_score, ppcor_score, scode_score, scribe_score, sincerities_score, singe_score, ss_cor, ss_ranked, target]], columns=['edge_name', 'op', 'inf', 'grnboost', 'genie3', 'grisli', 'grnvbem', 'leap',  'pidc', 'ppcor', 'scode', 'scribe', 'sincerities', 'singe', 'ss_cor', 'ss_ranked', 'edge_exist']), ignore_index=True)\n",
    "        # ensemble_df = ensemble_df.append(pd.DataFrame([[edge_name, op_score, inf_score, boost_score, genie3_score, grisli_score, grnvbem_score, leap_score, pidc_score, ppcor_score, scode_score, scribe_score, sincerities_score, ss_cor, ss_ranked, target]], columns=['edge_name', 'op', 'inf', 'grnboost', 'genie3', 'grisli', 'grnvbem', 'leap',  'pidc', 'ppcor', 'scode', 'scribe', 'sincerities', 'ss_cor', 'ss_ranked', 'edge_exist']), ignore_index=True)\n",
    "        ensemble_df = ensemble_df.append(pd.DataFrame([[edge_name, op_score, inf_score, boost_score, genie3_score, grisli_score, grnvbem_score, leap_score, pidc_score, ppcor_score, scode_score, scribe_score, ss_cor, ss_ranked, target]], columns=['edge_name', 'op', 'inf', 'grnboost', 'genie3', 'grisli', 'grnvbem', 'leap',  'pidc', 'ppcor', 'scode', 'scribe', 'ss_cor', 'ss_ranked', 'edge_exist']), ignore_index=True)"
   ]
  },
  {
   "cell_type": "code",
   "execution_count": 151,
   "metadata": {},
   "outputs": [],
   "source": [
    "ensemble_df = ensemble_df.astype({'edge_exist': 'int8'})\n",
    "ensemble_df.to_csv(set_dir + 'ensemble.csv', index=False)"
   ]
  },
  {
   "cell_type": "code",
   "execution_count": null,
   "metadata": {},
   "outputs": [],
   "source": []
  }
 ],
 "metadata": {
  "interpreter": {
   "hash": "9475d82786a7c9fb04fc22e82ed6d402850d2fab117438208280386913bcb268"
  },
  "kernelspec": {
   "display_name": "Python 3.8.5 64-bit ('base': conda)",
   "name": "python3"
  },
  "language_info": {
   "codemirror_mode": {
    "name": "ipython",
    "version": 3
   },
   "file_extension": ".py",
   "mimetype": "text/x-python",
   "name": "python",
   "nbconvert_exporter": "python",
   "pygments_lexer": "ipython3",
   "version": "3.8.10"
  },
  "orig_nbformat": 2
 },
 "nbformat": 4,
 "nbformat_minor": 2
}
