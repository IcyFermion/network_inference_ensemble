{
 "cells": [
  {
   "cell_type": "code",
   "execution_count": 1,
   "metadata": {},
   "outputs": [
    {
     "name": "stderr",
     "output_type": "stream",
     "text": [
      "/home/icy/miniconda3/lib/python3.8/site-packages/xgboost/compat.py:31: FutureWarning: pandas.Int64Index is deprecated and will be removed from pandas in a future version. Use pandas.Index with the appropriate dtype instead.\n",
      "  from pandas import MultiIndex, Int64Index\n"
     ]
    }
   ],
   "source": [
    "import numpy as np\n",
    "import pandas as pd\n",
    "import matplotlib\n",
    "from tqdm import tqdm \n",
    "from sklearn import metrics \n",
    "%matplotlib inline\n",
    "import matplotlib.pyplot as plt\n",
    "from sklearn.linear_model import LogisticRegressionCV\n",
    "from sklearn.metrics import precision_recall_curve\n",
    "from sklearn.metrics import auc\n",
    "from sklearn import preprocessing\n",
    "from sklearn.model_selection import train_test_split, RandomizedSearchCV\n",
    "\n",
    "from sklearn.linear_model import LogisticRegression\n",
    "from sklearn.naive_bayes import GaussianNB\n",
    "from sklearn.linear_model import SGDClassifier\n",
    "from sklearn.svm import SVC\n",
    "from sklearn.neighbors import KNeighborsClassifier\n",
    "from sklearn.ensemble import RandomForestClassifier, AdaBoostClassifier\n",
    "from xgboost.sklearn import XGBClassifier\n",
    "\n",
    "# styling:\n",
    "import seaborn as sns\n",
    "plt.style.use(['ggplot'])\n",
    "sns.set_palette(\"deep\")\n",
    "\n",
    "matplotlib.rcParams[\"figure.dpi\"] = 300\n"
   ]
  },
  {
   "cell_type": "code",
   "execution_count": 2,
   "metadata": {},
   "outputs": [],
   "source": [
    "all_dir = [x[0] for x in os.walk('.')]\n",
    "set_dirs = []\n",
    "for dir in all_dir:\n",
    "    if len(dir.split('/')) == 3:\n",
    "        set_dirs.append(dir)\n",
    "set_dirs.sort()"
   ]
  },
  {
   "cell_type": "code",
   "execution_count": 3,
   "metadata": {},
   "outputs": [],
   "source": [
    "# Ensemble data set up\n",
    "# algo_names = ['op', 'inf', 'grnboost', 'genie3', 'grisli', 'grnvbem', 'leap',  'pidc', 'ppcor', 'scode', 'scribe', 'sincerities', 'ss_cor', 'ss_ranked']\n",
    "algo_names = ['op', 'inf', 'grnboost', 'genie3', 'grisli', 'grnvbem', 'leap',  'pidc', 'ppcor', 'scode', 'scribe', 'ss_cor', 'ss_ranked']\n",
    "min_max_scaler = preprocessing.MinMaxScaler()"
   ]
  },
  {
   "cell_type": "code",
   "execution_count": 4,
   "metadata": {},
   "outputs": [],
   "source": [
    "ensemble_df = pd.read_csv(set_dirs[0] + '/ensemble.csv')\n",
    "all_data = pd.DataFrame(columns=ensemble_df.columns)\n",
    "\n",
    "tf_set = np.array(['G'+str(i) for i in range(1,101)])\n",
    "np.random.seed(4)\n",
    "np.random.shuffle(tf_set)\n",
    "train_tf_list = tf_set[:66]\n",
    "test_tf_list = tf_set[20:40]\n",
    "\n",
    "tf_set = np.array(['G'+str(i) for i in range(1,51)])\n",
    "np.random.seed(4)\n",
    "np.random.shuffle(tf_set)\n",
    "train_tf_list_s = tf_set[:33]\n",
    "test_tf_list_s = tf_set[10:20]\n",
    "\n"
   ]
  },
  {
   "cell_type": "code",
   "execution_count": 5,
   "metadata": {},
   "outputs": [],
   "source": [
    "\n",
    "ensemble_df_list = []\n",
    "train_df_list = []\n",
    "\n",
    "\n",
    "for set_dir in set_dirs:\n",
    "    train_ind = []\n",
    "    test_ind = []\n",
    "    ensemble_df = pd.read_csv(set_dir + '/ensemble.csv')\n",
    "    ensemble_df = ensemble_df.replace(np.nan,0)\n",
    "    # ensemble_df = ensemble_df.drop(columns=['singe'])\n",
    "    for index, row in ensemble_df.iterrows():\n",
    "        tf_name = row['edge_name'].split('_')[0]\n",
    "        if (len(ensemble_df) < 5000):\n",
    "            if (tf_name in train_tf_list_s):\n",
    "                train_ind.append(index)\n",
    "            if (tf_name in test_tf_list_s):\n",
    "                test_ind.append(index)\n",
    "        else:\n",
    "            if (tf_name in train_tf_list):\n",
    "                train_ind.append(index)\n",
    "            if (tf_name in test_tf_list):\n",
    "                test_ind.append(index)\n",
    "    test_df = ensemble_df.loc[test_ind]\n",
    "    train_df = ensemble_df.loc[train_ind]\n",
    "    # ensemble_df = ensemble_df.drop(train_ind+test_ind)\n",
    "    # ensemble_df = ensemble_df.drop(test_ind)\n",
    "    ensemble_df = ensemble_df.drop(train_ind)\n",
    "    all_data = pd.concat([all_data, test_df])\n",
    "    train_df_list.append(train_df)\n",
    "    ensemble_df_list.append(ensemble_df)\n",
    "\n",
    "all_data = all_data.astype({'edge_exist': 'int8'})\n",
    "all_X = all_data[algo_names] \n",
    "# all_X = min_max_scaler.fit_transform(all_X)\n",
    "all_y = all_data['edge_exist']\n"
   ]
  },
  {
   "cell_type": "code",
   "execution_count": 6,
   "metadata": {},
   "outputs": [],
   "source": [
    "set_names =['dream3_100#1', 'dream3_100#2','dream3_100#3','dream3_100#4','dream3_100#5', 'dream4_100#1', 'dream4_100#2','dream4_100#3','dream4_100#4','dream4_100#5']"
   ]
  },
  {
   "cell_type": "code",
   "execution_count": 7,
   "metadata": {},
   "outputs": [],
   "source": [
    "# algo_print_names = ['OutPredict', 'Inferelator', 'GRNBoost', 'Genie3', 'GRISLI', 'GRNVBEM', 'LEAP',  'PIDC', 'PPCOR', 'SCODE', 'SCRIBE', 'SINCERITIES']\n",
    "algo_print_names = ['OutPredict', 'Inferelator', 'GRNBoost', 'Genie3', 'GRISLI', 'GRNVBEM', 'LEAP',  'PIDC', 'PPCOR', 'SCODE', 'SCRIBE']\n"
   ]
  },
  {
   "cell_type": "code",
   "execution_count": 8,
   "metadata": {},
   "outputs": [],
   "source": [
    "ensemble_models = [\n",
    "    LogisticRegression(random_state=42, n_jobs=-1, C=100, penalty='l2',solver='newton-cg'), \n",
    "    GaussianNB(var_smoothing=2.848035868435805e-09), \n",
    "    SGDClassifier(loss='log', random_state=42, n_jobs=-1, alpha=0.1, penalty='l2'), \n",
    "    SVC(random_state=42, probability=True, C=50, gamma='scale', kernel='rbf'), \n",
    "    KNeighborsClassifier(metric='manhattan', n_neighbors=1, weights='uniform'), \n",
    "    RandomForestClassifier(random_state=42, n_jobs = -1, bootstrap=False, max_depth=8, max_features='sqrt', n_estimators=500), \n",
    "    AdaBoostClassifier(random_state=42, learning_rate=0.1, n_estimators=100), \n",
    "    XGBClassifier(random_state=42, n_jobs=-1, max_depth=6, learning_rate=1,n_estimators=500)\n",
    "]"
   ]
  },
  {
   "cell_type": "code",
   "execution_count": 9,
   "metadata": {},
   "outputs": [],
   "source": [
    "df_columns = algo_print_names + ['Ensemble_LR', 'Ensemble_NB', 'Ensemble_SGD', 'Ensemble_SVM', 'Ensemble_KNN', 'Ensemble_RF', 'Ensemble_AB', 'Ensemble_XGB']\n",
    "df_columns = df_columns + ['best_train_algo', 'best_test_algo', 'best_train_score', 'best_test_score']"
   ]
  },
  {
   "cell_type": "code",
   "execution_count": 10,
   "metadata": {},
   "outputs": [
    {
     "name": "stdout",
     "output_type": "stream",
     "text": [
      "OutPredict\n",
      "GRISLI\n"
     ]
    },
    {
     "name": "stderr",
     "output_type": "stream",
     "text": [
      "/home/icy/miniconda3/lib/python3.8/site-packages/xgboost/sklearn.py:888: UserWarning: The use of label encoder in XGBClassifier is deprecated and will be removed in a future release. To remove this warning, do the following: 1) Pass option use_label_encoder=False when constructing XGBClassifier object; and 2) Encode your labels (y) as integers starting with 0, i.e. 0, 1, 2, ..., [num_class - 1].\n",
      "  warnings.warn(label_encoder_deprecation_msg, UserWarning)\n"
     ]
    },
    {
     "name": "stdout",
     "output_type": "stream",
     "text": [
      "[00:50:21] WARNING: /tmp/build/80754af9/xgboost-split_1619724447847/work/src/learner.cc:1061: Starting in XGBoost 1.3.0, the default evaluation metric used with the objective 'binary:logistic' was changed from 'error' to 'logloss'. Explicitly set eval_metric if you'd like to restore the old behavior.\n"
     ]
    },
    {
     "name": "stderr",
     "output_type": "stream",
     "text": [
      "<ipython-input-10-01e1f557815b>:76: FutureWarning: The frame.append method is deprecated and will be removed from pandas in a future version. Use pandas.concat instead.\n",
      "  pr_df = pr_df.append(pd.DataFrame([pr_scores], columns=df_columns),ignore_index=True)\n"
     ]
    },
    {
     "name": "stdout",
     "output_type": "stream",
     "text": [
      "Inferelator\n",
      "OutPredict\n"
     ]
    },
    {
     "name": "stderr",
     "output_type": "stream",
     "text": [
      "/home/icy/miniconda3/lib/python3.8/site-packages/xgboost/sklearn.py:888: UserWarning: The use of label encoder in XGBClassifier is deprecated and will be removed in a future release. To remove this warning, do the following: 1) Pass option use_label_encoder=False when constructing XGBClassifier object; and 2) Encode your labels (y) as integers starting with 0, i.e. 0, 1, 2, ..., [num_class - 1].\n",
      "  warnings.warn(label_encoder_deprecation_msg, UserWarning)\n"
     ]
    },
    {
     "name": "stdout",
     "output_type": "stream",
     "text": [
      "[00:50:24] WARNING: /tmp/build/80754af9/xgboost-split_1619724447847/work/src/learner.cc:1061: Starting in XGBoost 1.3.0, the default evaluation metric used with the objective 'binary:logistic' was changed from 'error' to 'logloss'. Explicitly set eval_metric if you'd like to restore the old behavior.\n"
     ]
    },
    {
     "name": "stderr",
     "output_type": "stream",
     "text": [
      "<ipython-input-10-01e1f557815b>:76: FutureWarning: The frame.append method is deprecated and will be removed from pandas in a future version. Use pandas.concat instead.\n",
      "  pr_df = pr_df.append(pd.DataFrame([pr_scores], columns=df_columns),ignore_index=True)\n"
     ]
    },
    {
     "name": "stdout",
     "output_type": "stream",
     "text": [
      "Inferelator\n",
      "Inferelator\n"
     ]
    },
    {
     "name": "stderr",
     "output_type": "stream",
     "text": [
      "/home/icy/miniconda3/lib/python3.8/site-packages/xgboost/sklearn.py:888: UserWarning: The use of label encoder in XGBClassifier is deprecated and will be removed in a future release. To remove this warning, do the following: 1) Pass option use_label_encoder=False when constructing XGBClassifier object; and 2) Encode your labels (y) as integers starting with 0, i.e. 0, 1, 2, ..., [num_class - 1].\n",
      "  warnings.warn(label_encoder_deprecation_msg, UserWarning)\n"
     ]
    },
    {
     "name": "stdout",
     "output_type": "stream",
     "text": [
      "[00:50:28] WARNING: /tmp/build/80754af9/xgboost-split_1619724447847/work/src/learner.cc:1061: Starting in XGBoost 1.3.0, the default evaluation metric used with the objective 'binary:logistic' was changed from 'error' to 'logloss'. Explicitly set eval_metric if you'd like to restore the old behavior.\n"
     ]
    },
    {
     "name": "stderr",
     "output_type": "stream",
     "text": [
      "<ipython-input-10-01e1f557815b>:76: FutureWarning: The frame.append method is deprecated and will be removed from pandas in a future version. Use pandas.concat instead.\n",
      "  pr_df = pr_df.append(pd.DataFrame([pr_scores], columns=df_columns),ignore_index=True)\n"
     ]
    },
    {
     "name": "stdout",
     "output_type": "stream",
     "text": [
      "Inferelator\n",
      "Inferelator\n"
     ]
    },
    {
     "name": "stderr",
     "output_type": "stream",
     "text": [
      "/home/icy/miniconda3/lib/python3.8/site-packages/xgboost/sklearn.py:888: UserWarning: The use of label encoder in XGBClassifier is deprecated and will be removed in a future release. To remove this warning, do the following: 1) Pass option use_label_encoder=False when constructing XGBClassifier object; and 2) Encode your labels (y) as integers starting with 0, i.e. 0, 1, 2, ..., [num_class - 1].\n",
      "  warnings.warn(label_encoder_deprecation_msg, UserWarning)\n"
     ]
    },
    {
     "name": "stdout",
     "output_type": "stream",
     "text": [
      "[00:50:33] WARNING: /tmp/build/80754af9/xgboost-split_1619724447847/work/src/learner.cc:1061: Starting in XGBoost 1.3.0, the default evaluation metric used with the objective 'binary:logistic' was changed from 'error' to 'logloss'. Explicitly set eval_metric if you'd like to restore the old behavior.\n"
     ]
    },
    {
     "name": "stderr",
     "output_type": "stream",
     "text": [
      "<ipython-input-10-01e1f557815b>:76: FutureWarning: The frame.append method is deprecated and will be removed from pandas in a future version. Use pandas.concat instead.\n",
      "  pr_df = pr_df.append(pd.DataFrame([pr_scores], columns=df_columns),ignore_index=True)\n"
     ]
    },
    {
     "name": "stdout",
     "output_type": "stream",
     "text": [
      "Inferelator\n",
      "Inferelator\n"
     ]
    },
    {
     "name": "stderr",
     "output_type": "stream",
     "text": [
      "/home/icy/miniconda3/lib/python3.8/site-packages/xgboost/sklearn.py:888: UserWarning: The use of label encoder in XGBClassifier is deprecated and will be removed in a future release. To remove this warning, do the following: 1) Pass option use_label_encoder=False when constructing XGBClassifier object; and 2) Encode your labels (y) as integers starting with 0, i.e. 0, 1, 2, ..., [num_class - 1].\n",
      "  warnings.warn(label_encoder_deprecation_msg, UserWarning)\n"
     ]
    },
    {
     "name": "stdout",
     "output_type": "stream",
     "text": [
      "[00:50:38] WARNING: /tmp/build/80754af9/xgboost-split_1619724447847/work/src/learner.cc:1061: Starting in XGBoost 1.3.0, the default evaluation metric used with the objective 'binary:logistic' was changed from 'error' to 'logloss'. Explicitly set eval_metric if you'd like to restore the old behavior.\n"
     ]
    },
    {
     "name": "stderr",
     "output_type": "stream",
     "text": [
      "<ipython-input-10-01e1f557815b>:76: FutureWarning: The frame.append method is deprecated and will be removed from pandas in a future version. Use pandas.concat instead.\n",
      "  pr_df = pr_df.append(pd.DataFrame([pr_scores], columns=df_columns),ignore_index=True)\n"
     ]
    },
    {
     "name": "stdout",
     "output_type": "stream",
     "text": [
      "Inferelator\n",
      "Inferelator\n"
     ]
    },
    {
     "name": "stderr",
     "output_type": "stream",
     "text": [
      "/home/icy/miniconda3/lib/python3.8/site-packages/xgboost/sklearn.py:888: UserWarning: The use of label encoder in XGBClassifier is deprecated and will be removed in a future release. To remove this warning, do the following: 1) Pass option use_label_encoder=False when constructing XGBClassifier object; and 2) Encode your labels (y) as integers starting with 0, i.e. 0, 1, 2, ..., [num_class - 1].\n",
      "  warnings.warn(label_encoder_deprecation_msg, UserWarning)\n"
     ]
    },
    {
     "name": "stdout",
     "output_type": "stream",
     "text": [
      "[00:50:42] WARNING: /tmp/build/80754af9/xgboost-split_1619724447847/work/src/learner.cc:1061: Starting in XGBoost 1.3.0, the default evaluation metric used with the objective 'binary:logistic' was changed from 'error' to 'logloss'. Explicitly set eval_metric if you'd like to restore the old behavior.\n"
     ]
    },
    {
     "name": "stderr",
     "output_type": "stream",
     "text": [
      "<ipython-input-10-01e1f557815b>:76: FutureWarning: The frame.append method is deprecated and will be removed from pandas in a future version. Use pandas.concat instead.\n",
      "  pr_df = pr_df.append(pd.DataFrame([pr_scores], columns=df_columns),ignore_index=True)\n"
     ]
    },
    {
     "name": "stdout",
     "output_type": "stream",
     "text": [
      "Inferelator\n",
      "Genie3\n"
     ]
    },
    {
     "name": "stderr",
     "output_type": "stream",
     "text": [
      "/home/icy/miniconda3/lib/python3.8/site-packages/xgboost/sklearn.py:888: UserWarning: The use of label encoder in XGBClassifier is deprecated and will be removed in a future release. To remove this warning, do the following: 1) Pass option use_label_encoder=False when constructing XGBClassifier object; and 2) Encode your labels (y) as integers starting with 0, i.e. 0, 1, 2, ..., [num_class - 1].\n",
      "  warnings.warn(label_encoder_deprecation_msg, UserWarning)\n"
     ]
    },
    {
     "name": "stdout",
     "output_type": "stream",
     "text": [
      "[00:50:46] WARNING: /tmp/build/80754af9/xgboost-split_1619724447847/work/src/learner.cc:1061: Starting in XGBoost 1.3.0, the default evaluation metric used with the objective 'binary:logistic' was changed from 'error' to 'logloss'. Explicitly set eval_metric if you'd like to restore the old behavior.\n"
     ]
    },
    {
     "name": "stderr",
     "output_type": "stream",
     "text": [
      "<ipython-input-10-01e1f557815b>:76: FutureWarning: The frame.append method is deprecated and will be removed from pandas in a future version. Use pandas.concat instead.\n",
      "  pr_df = pr_df.append(pd.DataFrame([pr_scores], columns=df_columns),ignore_index=True)\n"
     ]
    },
    {
     "name": "stdout",
     "output_type": "stream",
     "text": [
      "Inferelator\n",
      "Inferelator\n"
     ]
    },
    {
     "name": "stderr",
     "output_type": "stream",
     "text": [
      "/home/icy/miniconda3/lib/python3.8/site-packages/xgboost/sklearn.py:888: UserWarning: The use of label encoder in XGBClassifier is deprecated and will be removed in a future release. To remove this warning, do the following: 1) Pass option use_label_encoder=False when constructing XGBClassifier object; and 2) Encode your labels (y) as integers starting with 0, i.e. 0, 1, 2, ..., [num_class - 1].\n",
      "  warnings.warn(label_encoder_deprecation_msg, UserWarning)\n"
     ]
    },
    {
     "name": "stdout",
     "output_type": "stream",
     "text": [
      "[00:50:50] WARNING: /tmp/build/80754af9/xgboost-split_1619724447847/work/src/learner.cc:1061: Starting in XGBoost 1.3.0, the default evaluation metric used with the objective 'binary:logistic' was changed from 'error' to 'logloss'. Explicitly set eval_metric if you'd like to restore the old behavior.\n"
     ]
    },
    {
     "name": "stderr",
     "output_type": "stream",
     "text": [
      "<ipython-input-10-01e1f557815b>:76: FutureWarning: The frame.append method is deprecated and will be removed from pandas in a future version. Use pandas.concat instead.\n",
      "  pr_df = pr_df.append(pd.DataFrame([pr_scores], columns=df_columns),ignore_index=True)\n"
     ]
    },
    {
     "name": "stdout",
     "output_type": "stream",
     "text": [
      "Inferelator\n",
      "Inferelator\n"
     ]
    },
    {
     "name": "stderr",
     "output_type": "stream",
     "text": [
      "/home/icy/miniconda3/lib/python3.8/site-packages/xgboost/sklearn.py:888: UserWarning: The use of label encoder in XGBClassifier is deprecated and will be removed in a future release. To remove this warning, do the following: 1) Pass option use_label_encoder=False when constructing XGBClassifier object; and 2) Encode your labels (y) as integers starting with 0, i.e. 0, 1, 2, ..., [num_class - 1].\n",
      "  warnings.warn(label_encoder_deprecation_msg, UserWarning)\n"
     ]
    },
    {
     "name": "stdout",
     "output_type": "stream",
     "text": [
      "[00:50:54] WARNING: /tmp/build/80754af9/xgboost-split_1619724447847/work/src/learner.cc:1061: Starting in XGBoost 1.3.0, the default evaluation metric used with the objective 'binary:logistic' was changed from 'error' to 'logloss'. Explicitly set eval_metric if you'd like to restore the old behavior.\n"
     ]
    },
    {
     "name": "stderr",
     "output_type": "stream",
     "text": [
      "<ipython-input-10-01e1f557815b>:76: FutureWarning: The frame.append method is deprecated and will be removed from pandas in a future version. Use pandas.concat instead.\n",
      "  pr_df = pr_df.append(pd.DataFrame([pr_scores], columns=df_columns),ignore_index=True)\n"
     ]
    },
    {
     "name": "stdout",
     "output_type": "stream",
     "text": [
      "Inferelator\n",
      "Inferelator\n"
     ]
    },
    {
     "name": "stderr",
     "output_type": "stream",
     "text": [
      "/home/icy/miniconda3/lib/python3.8/site-packages/xgboost/sklearn.py:888: UserWarning: The use of label encoder in XGBClassifier is deprecated and will be removed in a future release. To remove this warning, do the following: 1) Pass option use_label_encoder=False when constructing XGBClassifier object; and 2) Encode your labels (y) as integers starting with 0, i.e. 0, 1, 2, ..., [num_class - 1].\n",
      "  warnings.warn(label_encoder_deprecation_msg, UserWarning)\n"
     ]
    },
    {
     "name": "stdout",
     "output_type": "stream",
     "text": [
      "[00:50:58] WARNING: /tmp/build/80754af9/xgboost-split_1619724447847/work/src/learner.cc:1061: Starting in XGBoost 1.3.0, the default evaluation metric used with the objective 'binary:logistic' was changed from 'error' to 'logloss'. Explicitly set eval_metric if you'd like to restore the old behavior.\n"
     ]
    },
    {
     "name": "stderr",
     "output_type": "stream",
     "text": [
      "<ipython-input-10-01e1f557815b>:76: FutureWarning: The frame.append method is deprecated and will be removed from pandas in a future version. Use pandas.concat instead.\n",
      "  pr_df = pr_df.append(pd.DataFrame([pr_scores], columns=df_columns),ignore_index=True)\n"
     ]
    }
   ],
   "source": [
    "# algo_names = ['op', 'inf', 'grnboost', 'genie3', 'grisli', 'grnvbem', 'leap',  'pidc', 'ppcor', 'scode', 'scribe', 'sincerities']\n",
    "algo_names = ['op', 'inf', 'grnboost', 'genie3', 'grisli', 'grnvbem', 'leap',  'pidc', 'ppcor', 'scode', 'scribe']\n",
    "pr_df = pd.DataFrame(columns=df_columns)\n",
    "for i in range(10):\n",
    "    test_ensemble = ensemble_df_list[i]\n",
    "    train_ensemble = pd.DataFrame(columns=test_ensemble.columns)\n",
    "    for index, train_df in enumerate(train_df_list):\n",
    "        if (index != i):\n",
    "            train_ensemble = pd.concat([train_ensemble,train_df])\n",
    "    train_ensemble = train_ensemble.sample(frac=0.2, random_state=42)\n",
    "    min_max_scaler = preprocessing.MinMaxScaler()\n",
    "    # train on all other dream sets' ranking results, validation on current set\n",
    "    # X_train = train_ensemble[algo_names].values \n",
    "    X_train = train_df_list[i][algo_names].values \n",
    "    # X_train = min_max_scaler.fit_transform(X_train)\n",
    "    X_test = test_ensemble[algo_names].values \n",
    "    # X_test = min_max_scaler.fit_transform(X_test)\n",
    "    train_ensemble = train_ensemble.astype({'edge_exist': 'int8'})\n",
    "    test_ensemble = test_ensemble.astype({'edge_exist': 'int8'})\n",
    "    train_df_list[i] = train_df_list[i].astype({'edge_exist': 'int8'})\n",
    "    # y_train = train_ensemble['edge_exist']\n",
    "    y_train = train_df_list[i]['edge_exist']\n",
    "    y_test = test_ensemble['edge_exist']\n",
    "    # base algo ranking in trianing set \n",
    "    pr_list = []\n",
    "    pr_scores = []\n",
    "    for j in range(len(algo_names)):\n",
    "        try:\n",
    "            pr = precision_recall_curve(y_train, X_train[:,j])\n",
    "        except:\n",
    "            print(algo_print_names[j])\n",
    "        # pr = precision_recall_curve(y_train, X_train[:,j])\n",
    "        pr_list.append(pr)\n",
    "        pr_scores.append(auc(pr[1], pr[0]))\n",
    "    rankings = np.argsort(np.array(pr_scores))[::-1]\n",
    "    print(algo_print_names[rankings[0]])\n",
    "\n",
    "    # base algo ranking in testing set\n",
    "    pr_list = []\n",
    "    pr_scores = []\n",
    "    for j in range(len(algo_names)):\n",
    "        try:\n",
    "            pr = precision_recall_curve(y_test, X_test[:,j])\n",
    "        except:\n",
    "            print(algo_print_names[j])\n",
    "        # pr = precision_recall_curve(y_test, X_test[:,j])\n",
    "        pr_list.append(pr)\n",
    "        pr_scores.append(auc(pr[1], pr[0]))\n",
    "    rankings_test = np.argsort(np.array(pr_scores))[::-1]\n",
    "    print(algo_print_names[rankings_test[0]])\n",
    "    # We can train a different model here, neural net, random forest, etc.\n",
    "    # X_train_best = X_train[:, rankings[:6]]\n",
    "    # X_test_best = X_test[:, rankings[:6]]\n",
    "    X_train_best = X_train\n",
    "    X_test_best = X_test\n",
    "    # clf = SVC(random_state=42, probability=True).fit(X_train_best, y_train)\n",
    "    for model in ensemble_models:\n",
    "        clf = model.fit(X_train_best, y_train)\n",
    "        ensemble_pr = precision_recall_curve(y_test, 1- clf.predict_proba(X_test_best)[:,0])\n",
    "        pr_scores.append(auc(ensemble_pr[1], ensemble_pr[0]))\n",
    "    # clf = RandomForestClassifier(random_state=42, n_jobs = -1).fit(X_train_best, y_train)\n",
    "    # ensemble_pr = precision_recall_curve(y_test, 1- clf.predict_proba(X_test_best)[:,0])\n",
    "    # fig, ax = plt.subplots()\n",
    "    # for rank in rankings[:6]:\n",
    "    #     pr = pr_list[rank]\n",
    "    #     ax.plot(pr[1], pr[0], label='{}, AUPR={:.4f}'.format(algo_print_names[rank], auc(pr[1], pr[0])))\n",
    "    # ax.plot(ensemble_pr[1], ensemble_pr[0], label='RF Ensemble, aupr='+\"{:.4f}\".format(auc(ensemble_pr[1], ensemble_pr[0])))\n",
    "    # plt.title(set_names[i])\n",
    "    # plt.xlabel(\"Recall\")\n",
    "    # plt.ylabel(\"Precision\")\n",
    "    # plt.legend(loc='upper right')\n",
    "    # plt.savefig(\"{}.png\".format(set_names[i]))\n",
    "    # pr_scores.append(auc(ensemble_pr[1], ensemble_pr[0]))\n",
    "    pr_scores = pr_scores + [algo_print_names[rankings[0]], algo_print_names[rankings_test[0]], pr_scores[rankings[0]], pr_scores[rankings_test[0]]]\n",
    "\n",
    "    pr_df = pr_df.append(pd.DataFrame([pr_scores], columns=df_columns),ignore_index=True)\n",
    "    # feature_df = feature_df.append(pd.DataFrame([clf.feature_importances_], columns=algo_names), ignore_index=True)"
   ]
  },
  {
   "cell_type": "code",
   "execution_count": 11,
   "metadata": {},
   "outputs": [],
   "source": [
    "import functools\n",
    "from scipy.stats import rankdata\n",
    "algo_list = algo_print_names\n",
    "algo_list.append('Ensemble')\n",
    "avg_pr_scores = []\n",
    "for i in range(10):\n",
    "    test_ensemble = ensemble_df_list[i]\n",
    "    y_test = test_ensemble['edge_exist']\n",
    "    avg_score = (functools.reduce(lambda a, b: a + rankdata(test_ensemble[b]), algo_names, np.zeros_like(test_ensemble['op'])))/11.0\n",
    "    pr = precision_recall_curve(y_test, avg_score/np.max(avg_score))\n",
    "    avg_pr_scores.append(auc(pr[1], pr[0]))\n",
    "\n",
    "pr_df['Ensemble_AVG'] = avg_pr_scores"
   ]
  },
  {
   "cell_type": "code",
   "execution_count": 12,
   "metadata": {},
   "outputs": [],
   "source": [
    "pr_df['set_name'] = set_names\n",
    "pr_df.to_csv('aupr_all.csv', index=False)\n",
    "# feature_df.to_csv('feature_importance_granger.csv', index=False)"
   ]
  }
 ],
 "metadata": {
  "interpreter": {
   "hash": "a0625736e76ce7a086b05dcdb3b30b057da1874f4b7d94f712ab6b40a66351ac"
  },
  "kernelspec": {
   "display_name": "Python 3.8.10 ('base')",
   "language": "python",
   "name": "python3"
  },
  "language_info": {
   "codemirror_mode": {
    "name": "ipython",
    "version": 3
   },
   "file_extension": ".py",
   "mimetype": "text/x-python",
   "name": "python",
   "nbconvert_exporter": "python",
   "pygments_lexer": "ipython3",
   "version": "3.8.10"
  },
  "orig_nbformat": 2
 },
 "nbformat": 4,
 "nbformat_minor": 2
}
