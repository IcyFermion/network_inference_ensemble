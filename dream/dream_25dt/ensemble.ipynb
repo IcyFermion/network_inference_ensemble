{
 "cells": [
  {
   "cell_type": "code",
   "execution_count": 1,
   "metadata": {},
   "outputs": [],
   "source": [
    "import numpy as np\n",
    "import pandas as pd\n",
    "import matplotlib\n",
    "from tqdm import tqdm \n",
    "from sklearn import metrics \n",
    "%matplotlib inline\n",
    "import matplotlib.pyplot as plt\n",
    "from sklearn.linear_model import LogisticRegression, LogisticRegressionCV\n"
   ]
  },
  {
   "cell_type": "code",
   "execution_count": 44,
   "metadata": {},
   "outputs": [],
   "source": [
    "set_dir = './dream3/5/'"
   ]
  },
  {
   "cell_type": "code",
   "execution_count": 45,
   "metadata": {},
   "outputs": [
    {
     "ename": "FileNotFoundError",
     "evalue": "[Errno 2] No such file or directory: './dream3/5/SINCERITIES/rankedEdges.csv'",
     "output_type": "error",
     "traceback": [
      "\u001b[0;31m---------------------------------------------------------------------------\u001b[0m",
      "\u001b[0;31mFileNotFoundError\u001b[0m                         Traceback (most recent call last)",
      "\u001b[0;32m/tmp/ipykernel_1093/3639618159.py\u001b[0m in \u001b[0;36m<module>\u001b[0;34m\u001b[0m\n\u001b[1;32m     10\u001b[0m \u001b[0mscode_df\u001b[0m \u001b[0;34m=\u001b[0m \u001b[0mpd\u001b[0m\u001b[0;34m.\u001b[0m\u001b[0mread_csv\u001b[0m\u001b[0;34m(\u001b[0m\u001b[0mset_dir\u001b[0m \u001b[0;34m+\u001b[0m \u001b[0;34m'SCODE/rankedEdges.csv'\u001b[0m\u001b[0;34m,\u001b[0m \u001b[0msep\u001b[0m\u001b[0;34m=\u001b[0m\u001b[0;34m'\\t'\u001b[0m\u001b[0;34m)\u001b[0m\u001b[0;34m\u001b[0m\u001b[0;34m\u001b[0m\u001b[0m\n\u001b[1;32m     11\u001b[0m \u001b[0mscribe_df\u001b[0m \u001b[0;34m=\u001b[0m \u001b[0mpd\u001b[0m\u001b[0;34m.\u001b[0m\u001b[0mread_csv\u001b[0m\u001b[0;34m(\u001b[0m\u001b[0mset_dir\u001b[0m \u001b[0;34m+\u001b[0m \u001b[0;34m'SCRIBE/rankedEdges.csv'\u001b[0m\u001b[0;34m,\u001b[0m \u001b[0msep\u001b[0m\u001b[0;34m=\u001b[0m\u001b[0;34m'\\t'\u001b[0m\u001b[0;34m)\u001b[0m\u001b[0;34m\u001b[0m\u001b[0;34m\u001b[0m\u001b[0m\n\u001b[0;32m---> 12\u001b[0;31m \u001b[0msincerities_df\u001b[0m \u001b[0;34m=\u001b[0m \u001b[0mpd\u001b[0m\u001b[0;34m.\u001b[0m\u001b[0mread_csv\u001b[0m\u001b[0;34m(\u001b[0m\u001b[0mset_dir\u001b[0m \u001b[0;34m+\u001b[0m \u001b[0;34m'SINCERITIES/rankedEdges.csv'\u001b[0m\u001b[0;34m,\u001b[0m \u001b[0msep\u001b[0m\u001b[0;34m=\u001b[0m\u001b[0;34m'\\t'\u001b[0m\u001b[0;34m)\u001b[0m\u001b[0;34m\u001b[0m\u001b[0;34m\u001b[0m\u001b[0m\n\u001b[0m\u001b[1;32m     13\u001b[0m \u001b[0;31m# singe_df = pd.read_csv(set_dir + 'SINGE/rankedEdges.csv', sep='\\t')\u001b[0m\u001b[0;34m\u001b[0m\u001b[0;34m\u001b[0m\u001b[0;34m\u001b[0m\u001b[0m\n",
      "\u001b[0;32m~/miniconda3/lib/python3.8/site-packages/pandas/io/parsers.py\u001b[0m in \u001b[0;36mread_csv\u001b[0;34m(filepath_or_buffer, sep, delimiter, header, names, index_col, usecols, squeeze, prefix, mangle_dupe_cols, dtype, engine, converters, true_values, false_values, skipinitialspace, skiprows, skipfooter, nrows, na_values, keep_default_na, na_filter, verbose, skip_blank_lines, parse_dates, infer_datetime_format, keep_date_col, date_parser, dayfirst, cache_dates, iterator, chunksize, compression, thousands, decimal, lineterminator, quotechar, quoting, doublequote, escapechar, comment, encoding, dialect, error_bad_lines, warn_bad_lines, delim_whitespace, low_memory, memory_map, float_precision, storage_options)\u001b[0m\n\u001b[1;32m    608\u001b[0m     \u001b[0mkwds\u001b[0m\u001b[0;34m.\u001b[0m\u001b[0mupdate\u001b[0m\u001b[0;34m(\u001b[0m\u001b[0mkwds_defaults\u001b[0m\u001b[0;34m)\u001b[0m\u001b[0;34m\u001b[0m\u001b[0;34m\u001b[0m\u001b[0m\n\u001b[1;32m    609\u001b[0m \u001b[0;34m\u001b[0m\u001b[0m\n\u001b[0;32m--> 610\u001b[0;31m     \u001b[0;32mreturn\u001b[0m \u001b[0m_read\u001b[0m\u001b[0;34m(\u001b[0m\u001b[0mfilepath_or_buffer\u001b[0m\u001b[0;34m,\u001b[0m \u001b[0mkwds\u001b[0m\u001b[0;34m)\u001b[0m\u001b[0;34m\u001b[0m\u001b[0;34m\u001b[0m\u001b[0m\n\u001b[0m\u001b[1;32m    611\u001b[0m \u001b[0;34m\u001b[0m\u001b[0m\n\u001b[1;32m    612\u001b[0m \u001b[0;34m\u001b[0m\u001b[0m\n",
      "\u001b[0;32m~/miniconda3/lib/python3.8/site-packages/pandas/io/parsers.py\u001b[0m in \u001b[0;36m_read\u001b[0;34m(filepath_or_buffer, kwds)\u001b[0m\n\u001b[1;32m    460\u001b[0m \u001b[0;34m\u001b[0m\u001b[0m\n\u001b[1;32m    461\u001b[0m     \u001b[0;31m# Create the parser.\u001b[0m\u001b[0;34m\u001b[0m\u001b[0;34m\u001b[0m\u001b[0;34m\u001b[0m\u001b[0m\n\u001b[0;32m--> 462\u001b[0;31m     \u001b[0mparser\u001b[0m \u001b[0;34m=\u001b[0m \u001b[0mTextFileReader\u001b[0m\u001b[0;34m(\u001b[0m\u001b[0mfilepath_or_buffer\u001b[0m\u001b[0;34m,\u001b[0m \u001b[0;34m**\u001b[0m\u001b[0mkwds\u001b[0m\u001b[0;34m)\u001b[0m\u001b[0;34m\u001b[0m\u001b[0;34m\u001b[0m\u001b[0m\n\u001b[0m\u001b[1;32m    463\u001b[0m \u001b[0;34m\u001b[0m\u001b[0m\n\u001b[1;32m    464\u001b[0m     \u001b[0;32mif\u001b[0m \u001b[0mchunksize\u001b[0m \u001b[0;32mor\u001b[0m \u001b[0miterator\u001b[0m\u001b[0;34m:\u001b[0m\u001b[0;34m\u001b[0m\u001b[0;34m\u001b[0m\u001b[0m\n",
      "\u001b[0;32m~/miniconda3/lib/python3.8/site-packages/pandas/io/parsers.py\u001b[0m in \u001b[0;36m__init__\u001b[0;34m(self, f, engine, **kwds)\u001b[0m\n\u001b[1;32m    817\u001b[0m             \u001b[0mself\u001b[0m\u001b[0;34m.\u001b[0m\u001b[0moptions\u001b[0m\u001b[0;34m[\u001b[0m\u001b[0;34m\"has_index_names\"\u001b[0m\u001b[0;34m]\u001b[0m \u001b[0;34m=\u001b[0m \u001b[0mkwds\u001b[0m\u001b[0;34m[\u001b[0m\u001b[0;34m\"has_index_names\"\u001b[0m\u001b[0;34m]\u001b[0m\u001b[0;34m\u001b[0m\u001b[0;34m\u001b[0m\u001b[0m\n\u001b[1;32m    818\u001b[0m \u001b[0;34m\u001b[0m\u001b[0m\n\u001b[0;32m--> 819\u001b[0;31m         \u001b[0mself\u001b[0m\u001b[0;34m.\u001b[0m\u001b[0m_engine\u001b[0m \u001b[0;34m=\u001b[0m \u001b[0mself\u001b[0m\u001b[0;34m.\u001b[0m\u001b[0m_make_engine\u001b[0m\u001b[0;34m(\u001b[0m\u001b[0mself\u001b[0m\u001b[0;34m.\u001b[0m\u001b[0mengine\u001b[0m\u001b[0;34m)\u001b[0m\u001b[0;34m\u001b[0m\u001b[0;34m\u001b[0m\u001b[0m\n\u001b[0m\u001b[1;32m    820\u001b[0m \u001b[0;34m\u001b[0m\u001b[0m\n\u001b[1;32m    821\u001b[0m     \u001b[0;32mdef\u001b[0m \u001b[0mclose\u001b[0m\u001b[0;34m(\u001b[0m\u001b[0mself\u001b[0m\u001b[0;34m)\u001b[0m\u001b[0;34m:\u001b[0m\u001b[0;34m\u001b[0m\u001b[0;34m\u001b[0m\u001b[0m\n",
      "\u001b[0;32m~/miniconda3/lib/python3.8/site-packages/pandas/io/parsers.py\u001b[0m in \u001b[0;36m_make_engine\u001b[0;34m(self, engine)\u001b[0m\n\u001b[1;32m   1048\u001b[0m             )\n\u001b[1;32m   1049\u001b[0m         \u001b[0;31m# error: Too many arguments for \"ParserBase\"\u001b[0m\u001b[0;34m\u001b[0m\u001b[0;34m\u001b[0m\u001b[0;34m\u001b[0m\u001b[0m\n\u001b[0;32m-> 1050\u001b[0;31m         \u001b[0;32mreturn\u001b[0m \u001b[0mmapping\u001b[0m\u001b[0;34m[\u001b[0m\u001b[0mengine\u001b[0m\u001b[0;34m]\u001b[0m\u001b[0;34m(\u001b[0m\u001b[0mself\u001b[0m\u001b[0;34m.\u001b[0m\u001b[0mf\u001b[0m\u001b[0;34m,\u001b[0m \u001b[0;34m**\u001b[0m\u001b[0mself\u001b[0m\u001b[0;34m.\u001b[0m\u001b[0moptions\u001b[0m\u001b[0;34m)\u001b[0m  \u001b[0;31m# type: ignore[call-arg]\u001b[0m\u001b[0;34m\u001b[0m\u001b[0;34m\u001b[0m\u001b[0m\n\u001b[0m\u001b[1;32m   1051\u001b[0m \u001b[0;34m\u001b[0m\u001b[0m\n\u001b[1;32m   1052\u001b[0m     \u001b[0;32mdef\u001b[0m \u001b[0m_failover_to_python\u001b[0m\u001b[0;34m(\u001b[0m\u001b[0mself\u001b[0m\u001b[0;34m)\u001b[0m\u001b[0;34m:\u001b[0m\u001b[0;34m\u001b[0m\u001b[0;34m\u001b[0m\u001b[0m\n",
      "\u001b[0;32m~/miniconda3/lib/python3.8/site-packages/pandas/io/parsers.py\u001b[0m in \u001b[0;36m__init__\u001b[0;34m(self, src, **kwds)\u001b[0m\n\u001b[1;32m   1865\u001b[0m \u001b[0;34m\u001b[0m\u001b[0m\n\u001b[1;32m   1866\u001b[0m         \u001b[0;31m# open handles\u001b[0m\u001b[0;34m\u001b[0m\u001b[0;34m\u001b[0m\u001b[0;34m\u001b[0m\u001b[0m\n\u001b[0;32m-> 1867\u001b[0;31m         \u001b[0mself\u001b[0m\u001b[0;34m.\u001b[0m\u001b[0m_open_handles\u001b[0m\u001b[0;34m(\u001b[0m\u001b[0msrc\u001b[0m\u001b[0;34m,\u001b[0m \u001b[0mkwds\u001b[0m\u001b[0;34m)\u001b[0m\u001b[0;34m\u001b[0m\u001b[0;34m\u001b[0m\u001b[0m\n\u001b[0m\u001b[1;32m   1868\u001b[0m         \u001b[0;32massert\u001b[0m \u001b[0mself\u001b[0m\u001b[0;34m.\u001b[0m\u001b[0mhandles\u001b[0m \u001b[0;32mis\u001b[0m \u001b[0;32mnot\u001b[0m \u001b[0;32mNone\u001b[0m\u001b[0;34m\u001b[0m\u001b[0;34m\u001b[0m\u001b[0m\n\u001b[1;32m   1869\u001b[0m         \u001b[0;32mfor\u001b[0m \u001b[0mkey\u001b[0m \u001b[0;32min\u001b[0m \u001b[0;34m(\u001b[0m\u001b[0;34m\"storage_options\"\u001b[0m\u001b[0;34m,\u001b[0m \u001b[0;34m\"encoding\"\u001b[0m\u001b[0;34m,\u001b[0m \u001b[0;34m\"memory_map\"\u001b[0m\u001b[0;34m,\u001b[0m \u001b[0;34m\"compression\"\u001b[0m\u001b[0;34m)\u001b[0m\u001b[0;34m:\u001b[0m\u001b[0;34m\u001b[0m\u001b[0;34m\u001b[0m\u001b[0m\n",
      "\u001b[0;32m~/miniconda3/lib/python3.8/site-packages/pandas/io/parsers.py\u001b[0m in \u001b[0;36m_open_handles\u001b[0;34m(self, src, kwds)\u001b[0m\n\u001b[1;32m   1360\u001b[0m         \u001b[0mLet\u001b[0m \u001b[0mthe\u001b[0m \u001b[0mreaders\u001b[0m \u001b[0mopen\u001b[0m \u001b[0mIOHanldes\u001b[0m \u001b[0mafter\u001b[0m \u001b[0mthey\u001b[0m \u001b[0mare\u001b[0m \u001b[0mdone\u001b[0m \u001b[0;32mwith\u001b[0m \u001b[0mtheir\u001b[0m \u001b[0mpotential\u001b[0m \u001b[0mraises\u001b[0m\u001b[0;34m.\u001b[0m\u001b[0;34m\u001b[0m\u001b[0;34m\u001b[0m\u001b[0m\n\u001b[1;32m   1361\u001b[0m         \"\"\"\n\u001b[0;32m-> 1362\u001b[0;31m         self.handles = get_handle(\n\u001b[0m\u001b[1;32m   1363\u001b[0m             \u001b[0msrc\u001b[0m\u001b[0;34m,\u001b[0m\u001b[0;34m\u001b[0m\u001b[0;34m\u001b[0m\u001b[0m\n\u001b[1;32m   1364\u001b[0m             \u001b[0;34m\"r\"\u001b[0m\u001b[0;34m,\u001b[0m\u001b[0;34m\u001b[0m\u001b[0;34m\u001b[0m\u001b[0m\n",
      "\u001b[0;32m~/miniconda3/lib/python3.8/site-packages/pandas/io/common.py\u001b[0m in \u001b[0;36mget_handle\u001b[0;34m(path_or_buf, mode, encoding, compression, memory_map, is_text, errors, storage_options)\u001b[0m\n\u001b[1;32m    645\u001b[0m                 \u001b[0merrors\u001b[0m \u001b[0;34m=\u001b[0m \u001b[0;34m\"replace\"\u001b[0m\u001b[0;34m\u001b[0m\u001b[0;34m\u001b[0m\u001b[0m\n\u001b[1;32m    646\u001b[0m             \u001b[0;31m# Encoding\u001b[0m\u001b[0;34m\u001b[0m\u001b[0;34m\u001b[0m\u001b[0;34m\u001b[0m\u001b[0m\n\u001b[0;32m--> 647\u001b[0;31m             handle = open(\n\u001b[0m\u001b[1;32m    648\u001b[0m                 \u001b[0mhandle\u001b[0m\u001b[0;34m,\u001b[0m\u001b[0;34m\u001b[0m\u001b[0;34m\u001b[0m\u001b[0m\n\u001b[1;32m    649\u001b[0m                 \u001b[0mioargs\u001b[0m\u001b[0;34m.\u001b[0m\u001b[0mmode\u001b[0m\u001b[0;34m,\u001b[0m\u001b[0;34m\u001b[0m\u001b[0;34m\u001b[0m\u001b[0m\n",
      "\u001b[0;31mFileNotFoundError\u001b[0m: [Errno 2] No such file or directory: './dream3/5/SINCERITIES/rankedEdges.csv'"
     ]
    }
   ],
   "source": [
    "op_df = pd.read_csv(set_dir + 'Matrix_TF_gene_best_model.tsv', sep='\\t', index_col=0)\n",
    "inf_df = pd.read_csv(set_dir + 'inf_matrix.tsv', sep='\\t', index_col=0)\n",
    "boost_df = pd.read_csv(set_dir + 'GRNBOOST2/rankedEdges.csv', sep='\\t')\n",
    "genie3_df = pd.read_csv(set_dir + 'GENIE3/rankedEdges.csv', sep='\\t')\n",
    "grisli_df = pd.read_csv(set_dir + 'GRISLI/rankedEdges.csv', sep='\\t')\n",
    "grnvbem_df = pd.read_csv(set_dir + 'GRNVBEM/rankedEdges.csv', sep='\\t')\n",
    "leap_df = pd.read_csv(set_dir + 'LEAP/rankedEdges.csv', sep='\\t')\n",
    "pidc_df = pd.read_csv(set_dir + 'PIDC/rankedEdges.csv', sep='\\t')\n",
    "ppcor_df = pd.read_csv(set_dir + 'PPCOR/rankedEdges.csv', sep='\\t')\n",
    "scode_df = pd.read_csv(set_dir + 'SCODE/rankedEdges.csv', sep='\\t')\n",
    "scribe_df = pd.read_csv(set_dir + 'SCRIBE/rankedEdges.csv', sep='\\t')\n",
    "sincerities_df = pd.read_csv(set_dir + 'SINCERITIES/rankedEdges.csv', sep='\\t')\n",
    "# singe_df = pd.read_csv(set_dir + 'SINGE/rankedEdges.csv', sep='\\t')"
   ]
  },
  {
   "cell_type": "code",
   "execution_count": null,
   "metadata": {},
   "outputs": [],
   "source": [
    "target_df = pd.read_csv(set_dir + 'target_edges.csv')\n",
    "target_tf_set = set(target_df['regulator'])\n",
    "target_gene_set = set(target_df['target'])\n",
    "# common_tf = target_tf_set.intersection(set(op_df.columns))\n",
    "# common_gene = target_gene_set.intersection(set(op_df.index))\n",
    "common_tf = op_df.columns\n",
    "common_gene = op_df.index\n",
    "target_edge_set = set()\n",
    "for index, row in target_df.iterrows():\n",
    "    if row['regulator'] in common_tf and row['target'] in common_gene:\n",
    "        target_edge_set.add(row['regulator']+'_'+row['target'])"
   ]
  },
  {
   "cell_type": "code",
   "execution_count": null,
   "metadata": {},
   "outputs": [],
   "source": [
    "if 'Time' in common_tf:\n",
    "    common_tf = common_tf.drop('Time')"
   ]
  },
  {
   "cell_type": "code",
   "execution_count": null,
   "metadata": {},
   "outputs": [],
   "source": [
    "# ensemble_df = pd.DataFrame(columns=['edge_name', 'op', 'inf', 'grnboost', 'genie3', 'grisli', 'grnvbem', 'leap',  'pidc', 'ppcor', 'scode', 'scribe', 'sincerities', 'singe', 'ss_cor', 'ss_ranked', 'edge_exist'])\n",
    "ensemble_df = pd.DataFrame(columns=['edge_name', 'op', 'inf', 'grnboost', 'genie3', 'grisli', 'grnvbem', 'leap',  'pidc', 'ppcor', 'scode', 'scribe', 'sincerities', 'ss_cor', 'ss_ranked', 'edge_exist'])\n",
    "# ensemble_df = pd.DataFrame(columns=['edge_name', 'op', 'inf', 'grnboost', 'genie3', 'grisli', 'grnvbem', 'leap',  'pidc', 'ppcor', 'scode', 'scribe', 'ss_cor', 'ss_ranked', 'edge_exist'])"
   ]
  },
  {
   "cell_type": "code",
   "execution_count": null,
   "metadata": {},
   "outputs": [],
   "source": [
    "boost_df = boost_df[boost_df['Gene1'].isin(common_tf)]\n",
    "boost_df = boost_df[boost_df['Gene2'].isin(common_gene)]\n",
    "genie3_df = genie3_df[genie3_df['Gene1'].isin(common_tf)]\n",
    "genie3_df = genie3_df[genie3_df['Gene2'].isin(common_gene)]\n",
    "grisli_df = grisli_df[grisli_df['Gene1'].isin(common_tf)]\n",
    "grisli_df = grisli_df[grisli_df['Gene2'].isin(common_gene)]\n",
    "grnvbem_df = grnvbem_df[grnvbem_df['Gene1'].isin(common_tf)]\n",
    "grnvbem_df = grnvbem_df[grnvbem_df['Gene2'].isin(common_gene)]\n",
    "leap_df = leap_df[leap_df['Gene1'].isin(common_tf)]\n",
    "leap_df = leap_df[leap_df['Gene2'].isin(common_gene)]\n",
    "pidc_df = pidc_df[pidc_df['Gene1'].isin(common_tf)]\n",
    "pidc_df = pidc_df[pidc_df['Gene2'].isin(common_gene)]\n",
    "ppcor_df = ppcor_df[ppcor_df['Gene1'].isin(common_tf)]\n",
    "ppcor_df = ppcor_df[ppcor_df['Gene2'].isin(common_gene)]\n",
    "scode_df = scode_df[scode_df['Gene1'].isin(common_tf)]\n",
    "scode_df = scode_df[scode_df['Gene2'].isin(common_gene)]\n",
    "scribe_df = scribe_df[scribe_df['Gene1'].isin(common_tf)]\n",
    "scribe_df = scribe_df[scribe_df['Gene2'].isin(common_gene)]\n",
    "sincerities_df = sincerities_df[sincerities_df['Gene1'].isin(common_tf)]\n",
    "sincerities_df = sincerities_df[sincerities_df['Gene2'].isin(common_gene)]\n",
    "# singe_df = singe_df[singe_df['Gene1'].isin(common_tf)]\n",
    "# singe_df = singe_df[singe_df['Gene2'].isin(common_gene)]"
   ]
  },
  {
   "cell_type": "code",
   "execution_count": null,
   "metadata": {},
   "outputs": [],
   "source": [
    "boost_matrix = pd.DataFrame(0.0, index=common_gene, columns=common_tf)\n",
    "for index, row in boost_df.iterrows():\n",
    "    boost_matrix.at[row['Gene2'], row['Gene1']] = np.abs(row['EdgeWeight'])\n",
    "genie3_matrix = pd.DataFrame(0.0, index=common_gene, columns=common_tf)\n",
    "for index, row in genie3_df.iterrows():\n",
    "    genie3_matrix.at[row['Gene2'], row['Gene1']] = np.abs(row['EdgeWeight'])\n",
    "grisli_matrix = pd.DataFrame(0.0, index=common_gene, columns=common_tf)\n",
    "for index, row in grisli_df.iterrows():\n",
    "    grisli_matrix.at[row['Gene2'], row['Gene1']] = np.abs(row['EdgeWeight'])\n",
    "grnvbem_matrix = pd.DataFrame(0.0, index=common_gene, columns=common_tf)\n",
    "for index, row in grnvbem_df.iterrows():\n",
    "    grnvbem_matrix.at[row['Gene2'], row['Gene1']] = np.abs(row['EdgeWeight'])\n",
    "leap_matrix = pd.DataFrame(0.0, index=common_gene, columns=common_tf)\n",
    "for index, row in leap_df.iterrows():\n",
    "    leap_matrix.at[row['Gene2'], row['Gene1']] = np.abs(row['EdgeWeight'])\n",
    "pidc_matrix = pd.DataFrame(0.0, index=common_gene, columns=common_tf)\n",
    "for index, row in pidc_df.iterrows():\n",
    "    pidc_matrix.at[row['Gene2'], row['Gene1']] = np.abs(row['EdgeWeight'])\n",
    "ppcor_matrix = pd.DataFrame(0.0, index=common_gene, columns=common_tf)\n",
    "for index, row in ppcor_df.iterrows():\n",
    "    ppcor_matrix.at[row['Gene2'], row['Gene1']] = np.abs(row['EdgeWeight'])\n",
    "scode_matrix = pd.DataFrame(0.0, index=common_gene, columns=common_tf)\n",
    "for index, row in scode_df.iterrows():\n",
    "    scode_matrix.at[row['Gene2'], row['Gene1']] = np.abs(row['EdgeWeight'])\n",
    "scribe_matrix = pd.DataFrame(0.0, index=common_gene, columns=common_tf)\n",
    "for index, row in scribe_df.iterrows():\n",
    "    scribe_matrix.at[row['Gene2'], row['Gene1']] = np.abs(row['EdgeWeight'])\n",
    "sincerities_matrix = pd.DataFrame(0.0, index=common_gene, columns=common_tf)\n",
    "for index, row in sincerities_df.iterrows():\n",
    "    sincerities_matrix.at[row['Gene2'], row['Gene1']] = np.abs(row['EdgeWeight'])\n",
    "# singe_matrix = pd.DataFrame(0.0, index=common_gene, columns=common_tf)\n",
    "# for index, row in singe_df.iterrows():\n",
    "#     singe_matrix.at[row['Gene2'], row['Gene1']] = np.abs(row['EdgeWeight'])\n",
    "op_matrix = op_df[common_tf]\n",
    "op_matrix = op_matrix.loc[common_gene]\n",
    "inf_matrix = inf_df[common_tf]\n",
    "inf_matrix = inf_matrix.loc[common_gene]"
   ]
  },
  {
   "cell_type": "code",
   "execution_count": null,
   "metadata": {},
   "outputs": [],
   "source": [
    "from scipy import stats\n",
    "steady_state_df = pd.read_csv(set_dir + 'dualknockouts.tsv', sep='\\t')"
   ]
  },
  {
   "cell_type": "code",
   "execution_count": null,
   "metadata": {},
   "outputs": [
    {
     "name": "stderr",
     "output_type": "stream",
     "text": [
      "100%|██████████| 50/50 [00:05<00:00,  9.90it/s]\n"
     ]
    }
   ],
   "source": [
    "for regulator_name in tqdm(common_tf):\n",
    "    for target_name in common_gene:\n",
    "        edge_name = regulator_name + '_' + target_name\n",
    "        ss_gene = steady_state_df[target_name]\n",
    "        ss_tf = steady_state_df[regulator_name]\n",
    "        corr, _ = stats.pearsonr(ss_tf, ss_gene)\n",
    "        ss_ranked, _ =  stats.spearmanr(ss_tf, ss_gene)\n",
    "        ss_cor = corr**2\n",
    "        op_score = op_matrix.loc[target_name][regulator_name]\n",
    "        inf_score = inf_matrix.loc[target_name][regulator_name]\n",
    "        leap_score = leap_matrix.loc[target_name][regulator_name]\n",
    "        pidc_score = pidc_matrix.loc[target_name][regulator_name]\n",
    "        boost_score = boost_matrix.loc[target_name][regulator_name]\n",
    "        genie3_score = genie3_matrix.loc[target_name][regulator_name]\n",
    "        sincerities_score = sincerities_matrix.loc[target_name][regulator_name]\n",
    "        ppcor_score = ppcor_matrix.loc[target_name][regulator_name]\n",
    "        grisli_score = grisli_matrix.loc[target_name][regulator_name]\n",
    "        grnvbem_score = grnvbem_matrix.loc[target_name][regulator_name]\n",
    "        scode_score = scode_matrix.loc[target_name][regulator_name]\n",
    "        scribe_score = scribe_matrix.loc[target_name][regulator_name]\n",
    "        # singe_score = singe_matrix.loc[target_name][regulator_name]\n",
    "        target = 0\n",
    "        if edge_name in target_edge_set:\n",
    "            target = 1\n",
    "        # ensemble_df = ensemble_df.append(pd.DataFrame([[edge_name, op_score, inf_score, boost_score, genie3_score, grisli_score, grnvbem_score, leap_score, pidc_score, ppcor_score, scode_score, scribe_score, sincerities_score, singe_score, ss_cor, ss_ranked, target]], columns=['edge_name', 'op', 'inf', 'grnboost', 'genie3', 'grisli', 'grnvbem', 'leap',  'pidc', 'ppcor', 'scode', 'scribe', 'sincerities', 'singe', 'ss_cor', 'ss_ranked', 'edge_exist']), ignore_index=True)\n",
    "        ensemble_df = ensemble_df.append(pd.DataFrame([[edge_name, op_score, inf_score, boost_score, genie3_score, grisli_score, grnvbem_score, leap_score, pidc_score, ppcor_score, scode_score, scribe_score, sincerities_score, ss_cor, ss_ranked, target]], columns=['edge_name', 'op', 'inf', 'grnboost', 'genie3', 'grisli', 'grnvbem', 'leap',  'pidc', 'ppcor', 'scode', 'scribe', 'sincerities', 'ss_cor', 'ss_ranked', 'edge_exist']), ignore_index=True)\n",
    "        # ensemble_df = ensemble_df.append(pd.DataFrame([[edge_name, op_score, inf_score, boost_score, genie3_score, grisli_score, grnvbem_score, leap_score, pidc_score, ppcor_score, scode_score, scribe_score, ss_cor, ss_ranked, target]], columns=['edge_name', 'op', 'inf', 'grnboost', 'genie3', 'grisli', 'grnvbem', 'leap',  'pidc', 'ppcor', 'scode', 'scribe', 'ss_cor', 'ss_ranked', 'edge_exist']), ignore_index=True)"
   ]
  },
  {
   "cell_type": "code",
   "execution_count": null,
   "metadata": {},
   "outputs": [],
   "source": [
    "ensemble_df = ensemble_df.astype({'edge_exist': 'int8'})\n",
    "ensemble_df.to_csv(set_dir + 'ensemble.csv', index=False)"
   ]
  },
  {
   "cell_type": "code",
   "execution_count": null,
   "metadata": {},
   "outputs": [],
   "source": []
  }
 ],
 "metadata": {
  "interpreter": {
   "hash": "9475d82786a7c9fb04fc22e82ed6d402850d2fab117438208280386913bcb268"
  },
  "kernelspec": {
   "display_name": "Python 3.8.5 64-bit ('base': conda)",
   "name": "python3"
  },
  "language_info": {
   "codemirror_mode": {
    "name": "ipython",
    "version": 3
   },
   "file_extension": ".py",
   "mimetype": "text/x-python",
   "name": "python",
   "nbconvert_exporter": "python",
   "pygments_lexer": "ipython3",
   "version": "3.8.10"
  },
  "orig_nbformat": 2
 },
 "nbformat": 4,
 "nbformat_minor": 2
}
