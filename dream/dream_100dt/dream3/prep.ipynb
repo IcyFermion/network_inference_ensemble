{
 "cells": [
  {
   "cell_type": "code",
   "execution_count": 44,
   "metadata": {},
   "outputs": [],
   "source": [
    "import numpy as np\n",
    "import pandas as pd\n",
    "import matplotlib\n",
    "from tqdm import tqdm \n",
    "from sklearn import metrics \n",
    "%matplotlib inline\n",
    "import matplotlib.pyplot as plt\n",
    "from sklearn.linear_model import LogisticRegression\n",
    "from sklearn.linear_model import LogisticRegressionCV\n"
   ]
  },
  {
   "cell_type": "code",
   "execution_count": 101,
   "metadata": {},
   "outputs": [],
   "source": [
    "set_number = 2\n",
    "exp_file = 'InSilicoSize100-Ecoli2_dream4_timeseries.tsv'\n",
    "gs_file = 'InSilicoSize100-Ecoli2_goldstandard_signed.tsv'"
   ]
  },
  {
   "cell_type": "code",
   "execution_count": 102,
   "metadata": {},
   "outputs": [],
   "source": [
    "expression_df = pd.read_csv(exp_file, sep='\\t')"
   ]
  },
  {
   "cell_type": "code",
   "execution_count": 103,
   "metadata": {},
   "outputs": [],
   "source": [
    "ts_list = []\n",
    "pos_list = []\n",
    "prev_list = []\n",
    "delta_list = []\n",
    "cond_list = []\n",
    "time_list = []"
   ]
  },
  {
   "cell_type": "code",
   "execution_count": 104,
   "metadata": {
    "tags": []
   },
   "outputs": [],
   "source": [
    "for index, row in expression_df.iterrows():\n",
    "    series_index = int(index/11)\n",
    "    ts_index = int(index) % 11\n",
    "    time_list.append(ts_index*100)\n",
    "    cond_list.append('TS_'+str(series_index)+'_'+str(ts_index))\n",
    "    if (ts_index == 0):\n",
    "        pos_list.append('f')\n",
    "        prev_list.append('NA')\n",
    "        delta_list.append('NA')\n",
    "    elif (ts_index == 10):\n",
    "        pos_list.append('l')\n",
    "        prev_list.append('TS_'+str(series_index)+'_'+str(ts_index-1))\n",
    "        delta_list.append(100)\n",
    "    else:\n",
    "        pos_list.append('m')\n",
    "        prev_list.append('TS_'+str(series_index)+'_'+str(ts_index-1))\n",
    "        delta_list.append(100)\n",
    "    ts_list.append('TRUE')"
   ]
  },
  {
   "cell_type": "code",
   "execution_count": 105,
   "metadata": {},
   "outputs": [],
   "source": [
    "data = {\n",
    "    \"isTs\": ts_list,\t\n",
    "    \"is1stLast\": pos_list,\t\n",
    "    \"prevCol\": prev_list,\n",
    "    \"del.t\": delta_list,\t\n",
    "    \"condName\": cond_list\n",
    "}"
   ]
  },
  {
   "cell_type": "code",
   "execution_count": 106,
   "metadata": {},
   "outputs": [],
   "source": [
    "meta_df = pd.DataFrame(data)\n",
    "meta_df.to_csv(f'./{set_number}/meta_data.tsv', sep='\\t', index=False)"
   ]
  },
  {
   "cell_type": "code",
   "execution_count": 107,
   "metadata": {},
   "outputs": [],
   "source": [
    "expression_df.index = cond_list"
   ]
  },
  {
   "cell_type": "code",
   "execution_count": 108,
   "metadata": {},
   "outputs": [],
   "source": [
    "pd.DataFrame({'PseudoTime1': expression_df['Time'], 'PseudoTime2': expression_df['Time']}, index=expression_df.index).to_csv(f'./{set_number}/PseudoTime.csv')"
   ]
  },
  {
   "cell_type": "code",
   "execution_count": 109,
   "metadata": {},
   "outputs": [],
   "source": [
    "\n",
    "expression_df =  expression_df.drop(columns=['Time'])"
   ]
  },
  {
   "cell_type": "code",
   "execution_count": 110,
   "metadata": {},
   "outputs": [],
   "source": [
    "expression_df.T.to_csv(f'./{set_number}/expression.tsv', sep='\\t')\n",
    "expression_df.T.to_csv(f'./{set_number}/ExpressionData.csv')"
   ]
  },
  {
   "cell_type": "code",
   "execution_count": 111,
   "metadata": {},
   "outputs": [],
   "source": [
    "pd.DataFrame(expression_df.T.index).to_csv(f'./{set_number}/tf_names.tsv', sep='\\t', index=False)"
   ]
  },
  {
   "cell_type": "code",
   "execution_count": 112,
   "metadata": {},
   "outputs": [],
   "source": [
    "gs_df = pd.read_csv(gs_file, sep='\\t', names=['Gene1', 'Gene2', 'Type'])"
   ]
  },
  {
   "cell_type": "code",
   "execution_count": 113,
   "metadata": {},
   "outputs": [],
   "source": [
    "gs_df.to_csv(f'./{set_number}/refNetwork.csv', index=False)"
   ]
  },
  {
   "cell_type": "code",
   "execution_count": 114,
   "metadata": {},
   "outputs": [],
   "source": [
    "gs_df = pd.read_csv(gs_file, sep='\\t', names=['regulator', 'target', 'score'])\n",
    "gs_df.to_csv(f'./{set_number}/target_edges.csv', index=False)"
   ]
  },
  {
   "cell_type": "code",
   "execution_count": null,
   "metadata": {},
   "outputs": [],
   "source": []
  }
 ],
 "metadata": {
  "interpreter": {
   "hash": "a0625736e76ce7a086b05dcdb3b30b057da1874f4b7d94f712ab6b40a66351ac"
  },
  "kernelspec": {
   "display_name": "Python 3.8.5 64-bit ('base': conda)",
   "language": "python",
   "name": "python3"
  },
  "language_info": {
   "codemirror_mode": {
    "name": "ipython",
    "version": 3
   },
   "file_extension": ".py",
   "mimetype": "text/x-python",
   "name": "python",
   "nbconvert_exporter": "python",
   "pygments_lexer": "ipython3",
   "version": "3.8.10"
  },
  "orig_nbformat": 2
 },
 "nbformat": 4,
 "nbformat_minor": 2
}
