{
 "cells": [
  {
   "cell_type": "code",
   "execution_count": 16,
   "metadata": {},
   "outputs": [],
   "source": [
    "import numpy as np\n",
    "import pandas as pd\n",
    "import matplotlib\n",
    "from tqdm import tqdm \n",
    "from sklearn import metrics \n",
    "%matplotlib inline\n",
    "import matplotlib.pyplot as plt\n",
    "from sklearn.linear_model import LogisticRegressionCV\n",
    "from sklearn.metrics import precision_recall_curve\n",
    "from sklearn.metrics import auc\n",
    "from sklearn import preprocessing\n",
    "from sklearn.model_selection import train_test_split, RandomizedSearchCV\n",
    "\n",
    "from sklearn.linear_model import LogisticRegression\n",
    "from sklearn.naive_bayes import GaussianNB\n",
    "from sklearn.linear_model import SGDClassifier\n",
    "from sklearn.svm import SVC\n",
    "from sklearn.neighbors import KNeighborsClassifier\n",
    "from sklearn.ensemble import RandomForestClassifier, AdaBoostClassifier\n",
    "from xgboost.sklearn import XGBClassifier\n",
    "from scipy.stats import rankdata\n",
    "\n",
    "\n",
    "# styling:\n",
    "import seaborn as sns\n",
    "plt.style.use(['ggplot'])\n",
    "sns.set_palette(\"deep\")\n",
    "\n",
    "matplotlib.rcParams[\"figure.dpi\"] = 300\n"
   ]
  },
  {
   "cell_type": "code",
   "execution_count": 2,
   "metadata": {},
   "outputs": [],
   "source": [
    "all_dir = [x[0] for x in os.walk('.')]\n",
    "set_dirs = []\n",
    "for dir in all_dir:\n",
    "    if len(dir.split('/')) == 3:\n",
    "        set_dirs.append(dir)\n",
    "set_dirs.sort()"
   ]
  },
  {
   "cell_type": "code",
   "execution_count": 3,
   "metadata": {},
   "outputs": [],
   "source": [
    "# Ensemble data set up\n",
    "# algo_names = ['op', 'inf', 'grnboost', 'genie3', 'grisli', 'grnvbem', 'leap',  'pidc', 'ppcor', 'scode', 'scribe', 'sincerities', 'ss_cor', 'ss_ranked']\n",
    "algo_names = ['op', 'inf', 'grnboost', 'genie3', 'grisli', 'grnvbem', 'leap',  'pidc', 'ppcor', 'scode', 'scribe', 'ss_cor', 'ss_ranked']\n",
    "min_max_scaler = preprocessing.MinMaxScaler()"
   ]
  },
  {
   "cell_type": "code",
   "execution_count": 4,
   "metadata": {},
   "outputs": [],
   "source": [
    "ensemble_df = pd.read_csv(set_dirs[0] + '/ensemble.csv')\n",
    "all_data = pd.DataFrame(columns=ensemble_df.columns)\n",
    "\n",
    "tf_set = np.array(['G'+str(i) for i in range(1,101)])\n",
    "np.random.seed(4)\n",
    "np.random.shuffle(tf_set)\n",
    "train_tf_list = tf_set[:66]\n",
    "test_tf_list = tf_set[20:40]\n",
    "\n",
    "tf_set = np.array(['G'+str(i) for i in range(1,51)])\n",
    "np.random.seed(4)\n",
    "np.random.shuffle(tf_set)\n",
    "train_tf_list_s = tf_set[:33]\n",
    "test_tf_list_s = tf_set[10:20]\n",
    "\n"
   ]
  },
  {
   "cell_type": "code",
   "execution_count": 5,
   "metadata": {},
   "outputs": [],
   "source": [
    "\n",
    "ensemble_df_list = []\n",
    "train_df_list = []\n",
    "\n",
    "\n",
    "for set_dir in set_dirs:\n",
    "    train_ind = []\n",
    "    test_ind = []\n",
    "    ensemble_df = pd.read_csv(set_dir + '/ensemble.csv')\n",
    "    ensemble_df = ensemble_df.replace(np.nan,0)\n",
    "    # ensemble_df = ensemble_df.drop(columns=['singe'])\n",
    "    for index, row in ensemble_df.iterrows():\n",
    "        tf_name = row['edge_name'].split('_')[0]\n",
    "        if (len(ensemble_df) < 5000):\n",
    "            if (tf_name in train_tf_list_s):\n",
    "                train_ind.append(index)\n",
    "            if (tf_name in test_tf_list_s):\n",
    "                test_ind.append(index)\n",
    "        else:\n",
    "            if (tf_name in train_tf_list):\n",
    "                train_ind.append(index)\n",
    "            if (tf_name in test_tf_list):\n",
    "                test_ind.append(index)\n",
    "    test_df = ensemble_df.loc[test_ind]\n",
    "    train_df = ensemble_df.loc[train_ind]\n",
    "    # ensemble_df = ensemble_df.drop(train_ind+test_ind)\n",
    "    # ensemble_df = ensemble_df.drop(test_ind)\n",
    "    ensemble_df = ensemble_df.drop(train_ind)\n",
    "    all_data = pd.concat([all_data, test_df])\n",
    "    train_df_list.append(train_df)\n",
    "    ensemble_df_list.append(ensemble_df)\n",
    "\n",
    "all_data = all_data.astype({'edge_exist': 'int8'})\n",
    "all_X = all_data[algo_names] \n",
    "# all_X = min_max_scaler.fit_transform(all_X)\n",
    "all_y = all_data['edge_exist']\n"
   ]
  },
  {
   "cell_type": "code",
   "execution_count": 6,
   "metadata": {},
   "outputs": [],
   "source": [
    "set_names =['dream3_100#1', 'dream3_100#2','dream3_100#3','dream3_100#4','dream3_100#5', 'dream3_50#1', 'dream3_50#2','dream3_50#3','dream3_50#4','dream3_50#5', 'dream4_100#1', 'dream4_100#2','dream4_100#3','dream4_100#4','dream4_100#5']"
   ]
  },
  {
   "cell_type": "code",
   "execution_count": 7,
   "metadata": {},
   "outputs": [],
   "source": [
    "# algo_print_names = ['OutPredict', 'Inferelator', 'GRNBoost', 'Genie3', 'GRISLI', 'GRNVBEM', 'LEAP',  'PIDC', 'PPCOR', 'SCODE', 'SCRIBE', 'SINCERITIES']\n",
    "algo_print_names = ['OutPredict', 'Inferelator', 'GRNBoost', 'Genie3', 'GRISLI', 'GRNVBEM', 'LEAP',  'PIDC', 'PPCOR', 'SCODE', 'SCRIBE']\n"
   ]
  },
  {
   "cell_type": "code",
   "execution_count": 8,
   "metadata": {},
   "outputs": [],
   "source": [
    "ensemble_models = [LogisticRegression(random_state=42, n_jobs=-1), GaussianNB(), SGDClassifier(loss='log', random_state=42, n_jobs=-1), \n",
    "SVC(random_state=42, probability=True), KNeighborsClassifier(), RandomForestClassifier(random_state=42, n_jobs = -1), AdaBoostClassifier(random_state=42),\n",
    "XGBClassifier(random_state=42, n_jobs=-1)]"
   ]
  },
  {
   "cell_type": "code",
   "execution_count": 9,
   "metadata": {},
   "outputs": [],
   "source": [
    "df_columns = algo_print_names + ['Ensemble_LR', 'Ensemble_NB', 'Ensemble_SGD', 'Ensemble_SVM', 'Ensemble_KNN', 'Ensemble_RF', 'Ensemble_AB', 'Ensemble_XGB', 'Ensemble_AVG']\n",
    "df_columns = df_columns + ['best_train_algo', 'best_test_algo', 'best_train_score', 'best_test_score']"
   ]
  },
  {
   "cell_type": "code",
   "execution_count": 140,
   "metadata": {},
   "outputs": [],
   "source": [
    "import functools\n",
    "algo_names = ['op', 'inf', 'grnboost', 'genie3', 'grisli', 'grnvbem', 'leap',  'pidc', 'ppcor', 'scode', 'scribe']\n",
    "algo_list = algo_print_names\n",
    "algo_list.append('Ensemble')\n",
    "avg_pr_scores = []\n",
    "for i in range(10):\n",
    "    test_ensemble = ensemble_df_list[i]\n",
    "    y_test = test_ensemble['edge_exist']\n",
    "    avg_score = (functools.reduce(lambda a, b: a + rankdata(test_ensemble[b]), algo_names, np.zeros_like(test_ensemble['op'])))/11.0\n",
    "    pr = precision_recall_curve(y_test, avg_score/np.max(avg_score))\n",
    "    avg_pr_scores.append(auc(pr[1], pr[0]))"
   ]
  },
  {
   "cell_type": "code",
   "execution_count": 145,
   "metadata": {},
   "outputs": [],
   "source": [
    "df = pd.read_csv('aupr_all.csv')\n",
    "df['Ensemble_AVG'] = avg_pr_scores\n",
    "df.to_csv('aupr_all.csv', index=False)\n",
    "df = pd.read_csv('aupr_gaussian_only.csv')\n",
    "df['Ensemble_AVG'] = avg_pr_scores\n",
    "df.to_csv('aupr_gaussian_only.csv', index=False)"
   ]
  }
 ],
 "metadata": {
  "interpreter": {
   "hash": "9475d82786a7c9fb04fc22e82ed6d402850d2fab117438208280386913bcb268"
  },
  "kernelspec": {
   "display_name": "Python 3.8.10 64-bit ('base': conda)",
   "name": "python3"
  },
  "language_info": {
   "codemirror_mode": {
    "name": "ipython",
    "version": 3
   },
   "file_extension": ".py",
   "mimetype": "text/x-python",
   "name": "python",
   "nbconvert_exporter": "python",
   "pygments_lexer": "ipython3",
   "version": "3.8.10"
  },
  "orig_nbformat": 2
 },
 "nbformat": 4,
 "nbformat_minor": 2
}
