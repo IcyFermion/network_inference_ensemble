{
 "cells": [
  {
   "cell_type": "code",
   "execution_count": 51,
   "metadata": {},
   "outputs": [],
   "source": [
    "import numpy as np\n",
    "import pandas as pd\n",
    "import matplotlib\n",
    "from tqdm import tqdm \n",
    "from sklearn import metrics \n",
    "%matplotlib inline\n",
    "import matplotlib.pyplot as plt\n",
    "from sklearn.linear_model import LogisticRegressionCV\n",
    "from sklearn.metrics import precision_recall_curve\n",
    "from sklearn.metrics import auc\n",
    "from sklearn import preprocessing\n",
    "from sklearn.model_selection import train_test_split, RandomizedSearchCV\n",
    "\n",
    "from sklearn.linear_model import LogisticRegression\n",
    "from sklearn.naive_bayes import GaussianNB\n",
    "from sklearn.linear_model import SGDClassifier\n",
    "from sklearn.svm import SVC\n",
    "from sklearn.neighbors import KNeighborsClassifier\n",
    "from sklearn.ensemble import RandomForestClassifier, AdaBoostClassifier\n",
    "from xgboost.sklearn import XGBClassifier\n",
    "from scipy.stats import  kurtosis\n",
    "\n",
    "# styling:\n",
    "import seaborn as sns\n",
    "plt.style.use(['ggplot'])\n",
    "sns.set_palette(\"deep\")\n",
    "\n",
    "matplotlib.rcParams[\"figure.dpi\"] = 300\n"
   ]
  },
  {
   "cell_type": "code",
   "execution_count": 52,
   "metadata": {},
   "outputs": [],
   "source": [
    "cond_names = ['10dt', '20dt', '25dt', '50dt', '100dt']\n",
    "numerics = ['int16', 'int32', 'int64', 'float16', 'float32', 'float64']"
   ]
  },
  {
   "cell_type": "code",
   "execution_count": 53,
   "metadata": {},
   "outputs": [],
   "source": [
    "df_list = [\n",
    "    pd.read_csv('dream_10dt/aupr_all.csv'),\n",
    "    pd.read_csv('dream_20dt/aupr_all.csv'),\n",
    "    pd.read_csv('dream_25dt/aupr_all.csv'),\n",
    "    pd.read_csv('dream_50dt/aupr_all.csv'),\n",
    "    pd.read_csv('dream_100dt/aupr_all.csv'),\n",
    "]\n",
    "stat_df = pd.DataFrame(index=df_list[0].select_dtypes(include=numerics).columns)\n",
    "\n",
    "for df, cond_name in zip(df_list, cond_names):\n",
    "    mean_name = cond_name+'_mean'\n",
    "    std_name = cond_name+'_std'\n",
    "    df = df.select_dtypes(include=numerics)\n",
    "    df = df.iloc[:,:].div(df['best_test_score'], axis=0)\n",
    "    stat_df[mean_name] = df.mean()\n",
    "    stat_df[std_name] = df.std()"
   ]
  },
  {
   "cell_type": "code",
   "execution_count": 54,
   "metadata": {},
   "outputs": [],
   "source": [
    "stat_df.to_csv('all_ensemble_stat.csv')"
   ]
  },
  {
   "cell_type": "code",
   "execution_count": 58,
   "metadata": {},
   "outputs": [],
   "source": [
    "df_list = [\n",
    "    pd.read_csv('dream_10dt/aupr_gaussian_only.csv'),\n",
    "    pd.read_csv('dream_20dt/aupr_gaussian_only.csv'),\n",
    "    pd.read_csv('dream_25dt/aupr_gaussian_only.csv'),\n",
    "    pd.read_csv('dream_50dt/aupr_gaussian_only.csv'),\n",
    "    pd.read_csv('dream_100dt/aupr_gaussian_only.csv'),\n",
    "]\n",
    "stat_df = pd.DataFrame(index=df_list[0].select_dtypes(include=numerics).columns)\n",
    "\n",
    "for df, cond_name in zip(df_list, cond_names):\n",
    "    mean_name = cond_name+'_mean'\n",
    "    std_name = cond_name+'_std'\n",
    "    df = df.select_dtypes(include=numerics)\n",
    "    df = df.iloc[:,:].div(df['best_test_score'], axis=0)\n",
    "    stat_df[mean_name] = df.mean()\n",
    "    stat_df[std_name] = df.std()"
   ]
  },
  {
   "cell_type": "code",
   "execution_count": 59,
   "metadata": {},
   "outputs": [],
   "source": [
    "stat_df.to_csv('gaussian_only_ensemble_stat.csv')"
   ]
  },
  {
   "cell_type": "code",
   "execution_count": null,
   "metadata": {},
   "outputs": [],
   "source": []
  }
 ],
 "metadata": {
  "interpreter": {
   "hash": "a0625736e76ce7a086b05dcdb3b30b057da1874f4b7d94f712ab6b40a66351ac"
  },
  "kernelspec": {
   "display_name": "Python 3.8.10 ('base')",
   "language": "python",
   "name": "python3"
  },
  "language_info": {
   "codemirror_mode": {
    "name": "ipython",
    "version": 3
   },
   "file_extension": ".py",
   "mimetype": "text/x-python",
   "name": "python",
   "nbconvert_exporter": "python",
   "pygments_lexer": "ipython3",
   "version": "3.8.10"
  },
  "orig_nbformat": 4
 },
 "nbformat": 4,
 "nbformat_minor": 2
}
